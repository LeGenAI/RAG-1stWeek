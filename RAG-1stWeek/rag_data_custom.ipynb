{
 "cells": [
  {
   "cell_type": "code",
   "execution_count": 6,
   "metadata": {},
   "outputs": [
    {
     "name": "stderr",
     "output_type": "stream",
     "text": [
      "c:\\Users\\Edward\\anaconda3\\envs\\py310\\lib\\site-packages\\huggingface_hub\\file_download.py:834: UserWarning: `local_dir_use_symlinks` parameter is deprecated and will be ignored. The process to download files to a local folder has been updated and do not rely on symlinks anymore. You only need to pass a destination folder as`local_dir`.\n",
      "For more details, check out https://huggingface.co/docs/huggingface_hub/main/en/guides/download#download-files-to-local-folder.\n",
      "  warnings.warn(\n"
     ]
    },
    {
     "data": {
      "application/vnd.jupyter.widget-view+json": {
       "model_id": "379aa1389dfe41ed842ee5c9fa34aa5c",
       "version_major": 2,
       "version_minor": 0
      },
      "text/plain": [
       "Fetching 4 files:   0%|          | 0/4 [00:00<?, ?it/s]"
      ]
     },
     "metadata": {},
     "output_type": "display_data"
    },
    {
     "data": {
      "application/vnd.jupyter.widget-view+json": {
       "model_id": "36dec321fcf34a59a080af87c7f2ceed",
       "version_major": 2,
       "version_minor": 0
      },
      "text/plain": [
       ".gitattributes:   0%|          | 0.00/2.31k [00:00<?, ?B/s]"
      ]
     },
     "metadata": {},
     "output_type": "display_data"
    },
    {
     "data": {
      "application/vnd.jupyter.widget-view+json": {
       "model_id": "7aa30dc8f8ab4d97a674982dbbb96e7a",
       "version_major": 2,
       "version_minor": 0
      },
      "text/plain": [
       "README.md:   0%|          | 0.00/5.15k [00:00<?, ?B/s]"
      ]
     },
     "metadata": {},
     "output_type": "display_data"
    },
    {
     "data": {
      "application/vnd.jupyter.widget-view+json": {
       "model_id": "be6eeb1d5c8e4a698d37e5e7053a1e64",
       "version_major": 2,
       "version_minor": 0
      },
      "text/plain": [
       "(…)-00000-of-00001-f0c158413defd454.parquet:   0%|          | 0.00/2.32M [00:00<?, ?B/s]"
      ]
     },
     "metadata": {},
     "output_type": "display_data"
    },
    {
     "data": {
      "application/vnd.jupyter.widget-view+json": {
       "model_id": "13c8b75361ad469ea099a6f9f9a3d8d8",
       "version_major": 2,
       "version_minor": 0
      },
      "text/plain": [
       "(…)-00000-of-00001-06d83c58a8ea10e8.parquet:   0%|          | 0.00/604k [00:00<?, ?B/s]"
      ]
     },
     "metadata": {},
     "output_type": "display_data"
    },
    {
     "name": "stdout",
     "output_type": "stream",
     "text": [
      "\n"
     ]
    }
   ],
   "source": [
    "from huggingface_hub import snapshot_download  # Hugging Face Hub에서 데이터 또는 모델 리포지토리를 다운로드하기 위한 함수 import\n",
    "\n",
    "snapshot_download(  # Hugging Face Hub에서 특정 리포지토리의 스냅샷을 다운로드\n",
    "  repo_id='neural-bridge/rag-dataset-1200',  # 다운로드할 리포지토리 ID 지정 ('allganize/rag-ko')\n",
    "  repo_type='dataset',  # 리포지토리 유형 설정 ('dataset')\n",
    "  local_dir='./res/rag-custom',  # 다운로드한 데이터를 저장할 로컬 디렉토리 경로 지정\n",
    "  local_dir_use_symlinks=False  # 심볼릭 링크 대신 파일 복사를 사용하여 다운로드 (디스크 공간 사용)\n",
    ")\n",
    "\n",
    "print()  # 줄 바꿈을 위한 빈 print() 문; 디버깅 시 유용할 수 있음"
   ]
  },
  {
   "cell_type": "code",
   "execution_count": 12,
   "metadata": {},
   "outputs": [
    {
     "data": {
      "text/html": [
       "<div>\n",
       "<style scoped>\n",
       "    .dataframe tbody tr th:only-of-type {\n",
       "        vertical-align: middle;\n",
       "    }\n",
       "\n",
       "    .dataframe tbody tr th {\n",
       "        vertical-align: top;\n",
       "    }\n",
       "\n",
       "    .dataframe thead th {\n",
       "        text-align: right;\n",
       "    }\n",
       "</style>\n",
       "<table border=\"1\" class=\"dataframe\">\n",
       "  <thead>\n",
       "    <tr style=\"text-align: right;\">\n",
       "      <th></th>\n",
       "      <th>context</th>\n",
       "      <th>question</th>\n",
       "      <th>answer</th>\n",
       "    </tr>\n",
       "  </thead>\n",
       "  <tbody>\n",
       "    <tr>\n",
       "      <th>0</th>\n",
       "      <td>Trail Patrol Training\\nWant to be a part of th...</td>\n",
       "      <td>What are some of the skills taught in the Trai...</td>\n",
       "      <td>The course teaches the essential skills necess...</td>\n",
       "    </tr>\n",
       "    <tr>\n",
       "      <th>1</th>\n",
       "      <td>Lot Of Cbi Theater Ww2 Letters, 2 Newspapers, ...</td>\n",
       "      <td>Who was the original owner of the lot of items...</td>\n",
       "      <td>The original lot of items belonged to Lt. Neil...</td>\n",
       "    </tr>\n",
       "    <tr>\n",
       "      <th>2</th>\n",
       "      <td>Just.\\nWe are a small all volunteer NGO Humani...</td>\n",
       "      <td>What is the main objective of Humanity Road as...</td>\n",
       "      <td>The main objective of Humanity Road is to 'clo...</td>\n",
       "    </tr>\n",
       "    <tr>\n",
       "      <th>3</th>\n",
       "      <td>One of two convicted killers who escaped from ...</td>\n",
       "      <td>Who were the two convicted killers that escape...</td>\n",
       "      <td>The two convicted killers that escaped from an...</td>\n",
       "    </tr>\n",
       "    <tr>\n",
       "      <th>4</th>\n",
       "      <td>(Continued from Part 1...)\\n(Thirty years late...</td>\n",
       "      <td>Who was the person that came to help when Isaa...</td>\n",
       "      <td>Jesus was the person who came to help when Isa...</td>\n",
       "    </tr>\n",
       "    <tr>\n",
       "      <th>...</th>\n",
       "      <td>...</td>\n",
       "      <td>...</td>\n",
       "      <td>...</td>\n",
       "    </tr>\n",
       "    <tr>\n",
       "      <th>235</th>\n",
       "      <td>Inventor of the water-powered car screamed 'th...</td>\n",
       "      <td>Who was Stanley Meyer and what was his controv...</td>\n",
       "      <td>Stanley Meyer was one of the most controversia...</td>\n",
       "    </tr>\n",
       "    <tr>\n",
       "      <th>236</th>\n",
       "      <td>The Coleman Archive Volume 1: The Living Tradi...</td>\n",
       "      <td>What is the key instrument of choice in the ar...</td>\n",
       "      <td>The fiddle was the key instrument of choice in...</td>\n",
       "    </tr>\n",
       "    <tr>\n",
       "      <th>237</th>\n",
       "      <td>From November 1981 thru February 1983 the Mona...</td>\n",
       "      <td>What was the purpose of the monthly newsletter...</td>\n",
       "      <td>The monthly newsletter produced by the Monadno...</td>\n",
       "    </tr>\n",
       "    <tr>\n",
       "      <th>238</th>\n",
       "      <td>.\\nDiscount Street Jackets More in the Main St...</td>\n",
       "      <td>What is the sale price of the 2117 of Sweden B...</td>\n",
       "      <td>The sale price of the 2117 of Sweden Bjorklide...</td>\n",
       "    </tr>\n",
       "    <tr>\n",
       "      <th>239</th>\n",
       "      <td>Number of agricultural tractors reached 5.39 '...</td>\n",
       "      <td>What was the number of agricultural tractors i...</td>\n",
       "      <td>The number of agricultural tractors in Guinea ...</td>\n",
       "    </tr>\n",
       "  </tbody>\n",
       "</table>\n",
       "<p>240 rows × 3 columns</p>\n",
       "</div>"
      ],
      "text/plain": [
       "                                               context  \\\n",
       "0    Trail Patrol Training\\nWant to be a part of th...   \n",
       "1    Lot Of Cbi Theater Ww2 Letters, 2 Newspapers, ...   \n",
       "2    Just.\\nWe are a small all volunteer NGO Humani...   \n",
       "3    One of two convicted killers who escaped from ...   \n",
       "4    (Continued from Part 1...)\\n(Thirty years late...   \n",
       "..                                                 ...   \n",
       "235  Inventor of the water-powered car screamed 'th...   \n",
       "236  The Coleman Archive Volume 1: The Living Tradi...   \n",
       "237  From November 1981 thru February 1983 the Mona...   \n",
       "238  .\\nDiscount Street Jackets More in the Main St...   \n",
       "239  Number of agricultural tractors reached 5.39 '...   \n",
       "\n",
       "                                              question  \\\n",
       "0    What are some of the skills taught in the Trai...   \n",
       "1    Who was the original owner of the lot of items...   \n",
       "2    What is the main objective of Humanity Road as...   \n",
       "3    Who were the two convicted killers that escape...   \n",
       "4    Who was the person that came to help when Isaa...   \n",
       "..                                                 ...   \n",
       "235  Who was Stanley Meyer and what was his controv...   \n",
       "236  What is the key instrument of choice in the ar...   \n",
       "237  What was the purpose of the monthly newsletter...   \n",
       "238  What is the sale price of the 2117 of Sweden B...   \n",
       "239  What was the number of agricultural tractors i...   \n",
       "\n",
       "                                                answer  \n",
       "0    The course teaches the essential skills necess...  \n",
       "1    The original lot of items belonged to Lt. Neil...  \n",
       "2    The main objective of Humanity Road is to 'clo...  \n",
       "3    The two convicted killers that escaped from an...  \n",
       "4    Jesus was the person who came to help when Isa...  \n",
       "..                                                 ...  \n",
       "235  Stanley Meyer was one of the most controversia...  \n",
       "236  The fiddle was the key instrument of choice in...  \n",
       "237  The monthly newsletter produced by the Monadno...  \n",
       "238  The sale price of the 2117 of Sweden Bjorklide...  \n",
       "239  The number of agricultural tractors in Guinea ...  \n",
       "\n",
       "[240 rows x 3 columns]"
      ]
     },
     "execution_count": 12,
     "metadata": {},
     "output_type": "execute_result"
    }
   ],
   "source": [
    "import pandas as pd  # pandas 라이브러리 import; 데이터 프레임과 데이터 분석 작업을 수행하는 데 사용\n",
    "\n",
    "df = pd.read_parquet('./res/rag-custom/data/test-00000-of-00001-06d83c58a8ea10e8.parquet')  # Parquet 파일을 읽어 pandas DataFrame으로 로드\n",
    "df  # DataFrame의 내용을 출력"
   ]
  },
  {
   "cell_type": "code",
   "execution_count": 9,
   "metadata": {},
   "outputs": [
    {
     "name": "stdout",
     "output_type": "stream",
     "text": [
      "Trail Patrol Training\n",
      "Want to be a part of the Trail Patrol ?? Join an Orientation & Hike on the 1st Tuesday of each month. This course is required for all PATC members interested in joining the PATC Trail Patrol.\n",
      "The course teaches the essential skills necessary to be a trail patrol member and to provide a reassuring presence on the trail while teaching safety and environmental responsibility. A Trail Patrol handbook is provided to all students. Please bring a pencil, your hiking daypack & lunch.\n",
      "More Info: View the Calendar or contact TP Training or visit the Trail Patrol Training web pages.\n",
      "Hike Leader Class.\n",
      "More Info: Contact Hike Leader Training or click here to register.\n",
      "Backpacking Classes\n",
      "Educating people in safe and environmentally friendly practices for traveling into the backcountry is one of Trail Patrol’s core responsibilities. We offer backpacking classes for novices seeking to take up backpacking as well as for experienced backpackers.\n",
      "Backpacking 101: An Introductory Course is for beginners & those who want to update rusty skills. It includes a weekend overnight backpacking trip. Instruction covers equipment selection and use, information and techniques to enhance safety and comfort, and Leave No Trace methods to protect our fragile backcountry environment.\n",
      "More Info: Contact Backpacking Training or click here to register.\n",
      "Backpacking 202: Planning and leading group trips is for Backpacking 101 graduates and others with comparable experience. This class provides the opportunity to take it to the next level by developing special skill needed to plan and lead group trips. Pre-trip planning sessions will cover equipment selection and use, route planning, food planning, improving safety and comfort, managing the unexpected, and Leave No Trace principles to protect our fragile backcountry environment.\n",
      "Includes a weekend overnight backpacking trip.\n",
      "More Info: Contact Backpacking Training or click here to register.\n",
      "Lightweight Backpacking: Techniques for reducing pack weight without compromising safety - for both experienced and new backpackers. One-day workshop, no backpacking trip. This one-day workshop is designed to acquaint backpackers with the importance of weight considerations when choosing and using equipment, and to instill a weight-conscience mind set when packing for an overnight trip. It is not intended to advocate an ultra light philosophy. Each student attending the class will be encouraged to bring a pack fully loaded, less food and water, with everything they would normally carry on a 3-day, 2-night trip of 10\n",
      "Pre-registration is required. Class is limited to 25 students.\n",
      "More Info: Contact Backpacking Training or click here to register.\n",
      "Wilderness First Aid\n",
      "Basic Wilderness First Aid (BWFA) is a 2-day workshop. Day one covers Adult CPR and AED and American Heart Association First Aid. You will receive a textbook and a certification card good for two years. Day two is American Safety and Health Institute (ASHI) Basic Wilderness First Aid. You will learn how to do bleeding control, splinting and other basic first aid skills in the wilderness setting. There is plenty of hands-on time & paramedics with years of backcountry experience teach the classes.\n",
      "More Info: Contact TP First Aid or click here to register.\n",
      "Wilderness First Aid (WFA)\n",
      "Join us for a 20-hour Wilderness First Aid Class! In this class, you will learn how to get help, move and transport patients, conduct patient assessments, documentation, how to handle medical and environmental emergencies, injury prevention and care, and much more. There is plenty of hands-on practice time as well as scenarios. This class is conducted inside and outside on the trail. Each student will receive a certification card good for two years through ECSI and a waterproof field guide. No experience required.\n",
      "More Info: Contact TP First Aid or click here to register.\n",
      "Leave No Trace Trainer Course\n",
      "These courses are designed to enhance your understanding of Leave No Trace practices and ethics and to increase your level of expertise and confidence in teaching Leave No Trace skills. Through focused activities, hands‑on field experience and both formal and informal discussions, you will be introduced to concepts and methods that will advance your knowledge of Leave No Trace issues, expand your repertoire of low‑impact skills and increase your effectiveness in teaching these important skills to others.\n",
      "On completion of this course, participants will be registered as Leave No Trace Trainers with the national Leave No Trace Center for Outdoor Ethics and will receive a certificate of course completion as well as their Leave No Trace Trainer lapel pin.\n",
      "More Info: Contact TP LNT or click here to register.\n"
     ]
    }
   ],
   "source": [
    "print(df.iloc[0]['context']) "
   ]
  },
  {
   "cell_type": "code",
   "execution_count": 10,
   "metadata": {},
   "outputs": [
    {
     "name": "stdout",
     "output_type": "stream",
     "text": [
      "DataFrame 구조:\n",
      "<class 'pandas.core.frame.DataFrame'>\n",
      "RangeIndex: 240 entries, 0 to 239\n",
      "Data columns (total 3 columns):\n",
      " #   Column    Non-Null Count  Dtype \n",
      "---  ------    --------------  ----- \n",
      " 0   context   240 non-null    object\n",
      " 1   question  240 non-null    object\n",
      " 2   answer    240 non-null    object\n",
      "dtypes: object(3)\n",
      "memory usage: 5.8+ KB\n",
      "None\n",
      "\n",
      "첫 번째 행 샘플:\n",
      "context     Trail Patrol Training\\nWant to be a part of th...\n",
      "question    What are some of the skills taught in the Trai...\n",
      "answer      The course teaches the essential skills necess...\n",
      "Name: 0, dtype: object\n"
     ]
    }
   ],
   "source": [
    "# 데이터셋 구조 확인\n",
    "print(\"DataFrame 구조:\")\n",
    "print(df.info())\n",
    "print(\"\\n첫 번째 행 샘플:\")\n",
    "print(df.iloc[0])"
   ]
  },
  {
   "cell_type": "code",
   "execution_count": 15,
   "metadata": {},
   "outputs": [
    {
     "name": "stdout",
     "output_type": "stream",
     "text": [
      "데이터 통계:\n",
      "총 데이터 수: 240\n",
      "질문 개수: 240\n",
      "컨텍스트 개수: 240\n",
      "답변 개수: 240\n",
      "\n",
      "첫 번째 샘플:\n",
      "질문: What are some of the skills taught in the Trail Patrol Training course?\n",
      "컨텍스트: Trail Patrol Training\n",
      "Want to be a part of the Trail Patrol ?? Join an Orientation & Hike on the 1st Tuesday of each month. This course is required for all PATC members interested in joining the PATC Trail Patrol.\n",
      "The course teaches the essential skills necessary to be a trail patrol member and to provide a reassuring presence on the trail while teaching safety and environmental responsibility. A Trail Patrol handbook is provided to all students. Please bring a pencil, your hiking daypack & lunch.\n",
      "More Info: View the Calendar or contact TP Training or visit the Trail Patrol Training web pages.\n",
      "Hike Leader Class.\n",
      "More Info: Contact Hike Leader Training or click here to register.\n",
      "Backpacking Classes\n",
      "Educating people in safe and environmentally friendly practices for traveling into the backcountry is one of Trail Patrol’s core responsibilities. We offer backpacking classes for novices seeking to take up backpacking as well as for experienced backpackers.\n",
      "Backpacking 101: An Introductory Course is for beginners & those who want to update rusty skills. It includes a weekend overnight backpacking trip. Instruction covers equipment selection and use, information and techniques to enhance safety and comfort, and Leave No Trace methods to protect our fragile backcountry environment.\n",
      "More Info: Contact Backpacking Training or click here to register.\n",
      "Backpacking 202: Planning and leading group trips is for Backpacking 101 graduates and others with comparable experience. This class provides the opportunity to take it to the next level by developing special skill needed to plan and lead group trips. Pre-trip planning sessions will cover equipment selection and use, route planning, food planning, improving safety and comfort, managing the unexpected, and Leave No Trace principles to protect our fragile backcountry environment.\n",
      "Includes a weekend overnight backpacking trip.\n",
      "More Info: Contact Backpacking Training or click here to register.\n",
      "Lightweight Backpacking: Techniques for reducing pack weight without compromising safety - for both experienced and new backpackers. One-day workshop, no backpacking trip. This one-day workshop is designed to acquaint backpackers with the importance of weight considerations when choosing and using equipment, and to instill a weight-conscience mind set when packing for an overnight trip. It is not intended to advocate an ultra light philosophy. Each student attending the class will be encouraged to bring a pack fully loaded, less food and water, with everything they would normally carry on a 3-day, 2-night trip of 10\n",
      "Pre-registration is required. Class is limited to 25 students.\n",
      "More Info: Contact Backpacking Training or click here to register.\n",
      "Wilderness First Aid\n",
      "Basic Wilderness First Aid (BWFA) is a 2-day workshop. Day one covers Adult CPR and AED and American Heart Association First Aid. You will receive a textbook and a certification card good for two years. Day two is American Safety and Health Institute (ASHI) Basic Wilderness First Aid. You will learn how to do bleeding control, splinting and other basic first aid skills in the wilderness setting. There is plenty of hands-on time & paramedics with years of backcountry experience teach the classes.\n",
      "More Info: Contact TP First Aid or click here to register.\n",
      "Wilderness First Aid (WFA)\n",
      "Join us for a 20-hour Wilderness First Aid Class! In this class, you will learn how to get help, move and transport patients, conduct patient assessments, documentation, how to handle medical and environmental emergencies, injury prevention and care, and much more. There is plenty of hands-on practice time as well as scenarios. This class is conducted inside and outside on the trail. Each student will receive a certification card good for two years through ECSI and a waterproof field guide. No experience required.\n",
      "More Info: Contact TP First Aid or click here to register.\n",
      "Leave No Trace Trainer Course\n",
      "These courses are designed to enhance your understanding of Leave No Trace practices and ethics and to increase your level of expertise and confidence in teaching Leave No Trace skills. Through focused activities, hands‑on field experience and both formal and informal discussions, you will be introduced to concepts and methods that will advance your knowledge of Leave No Trace issues, expand your repertoire of low‑impact skills and increase your effectiveness in teaching these important skills to others.\n",
      "On completion of this course, participants will be registered as Leave No Trace Trainers with the national Leave No Trace Center for Outdoor Ethics and will receive a certificate of course completion as well as their Leave No Trace Trainer lapel pin.\n",
      "More Info: Contact TP LNT or click here to register.\n",
      "답변: The course teaches the essential skills necessary to be a trail patrol member and to provide a reassuring presence on the trail while teaching safety and environmental responsibility.\n"
     ]
    }
   ],
   "source": [
    "import pandas as pd\n",
    "import pickle\n",
    "\n",
    "# 각 컬럼의 데이터를 리스트로 변환\n",
    "contexts = df['context'].tolist()  # 컨텍스트를 그대로 리스트로 변환\n",
    "questions = df['question'].tolist()\n",
    "answers = df['answer'].tolist()\n",
    "\n",
    "# 데이터 사전 구성\n",
    "rag_data = {\n",
    "    'questions': questions,\n",
    "    'contexts': contexts,\n",
    "    'contexts_answer_idx': [0] * len(df),\n",
    "    'contexts_answers': df['context'].tolist(),\n",
    "    'answers': answers\n",
    "}\n",
    "\n",
    "# pkl 파일로 저장\n",
    "with open('./res/rag-custom.pkl', 'wb') as f:\n",
    "    pickle.dump(rag_data, f)\n",
    "\n",
    "# 저장된 데이터 확인\n",
    "print(\"데이터 통계:\")\n",
    "print(f\"총 데이터 수: {len(df)}\")\n",
    "print(f\"질문 개수: {len(rag_data['questions'])}\")\n",
    "print(f\"컨텍스트 개수: {len(rag_data['contexts'])}\")\n",
    "print(f\"답변 개수: {len(rag_data['answers'])}\")\n",
    "\n",
    "print(\"\\n첫 번째 샘플:\")\n",
    "print(f\"질문: {rag_data['questions'][0]}\")\n",
    "print(f\"컨텍스트: {rag_data['contexts'][0]}\")\n",
    "print(f\"답변: {rag_data['answers'][0]}\")"
   ]
  },
  {
   "cell_type": "code",
   "execution_count": null,
   "metadata": {},
   "outputs": [],
   "source": []
  }
 ],
 "metadata": {
  "kernelspec": {
   "display_name": "tf210",
   "language": "python",
   "name": "tf210"
  },
  "language_info": {
   "codemirror_mode": {
    "name": "ipython",
    "version": 3
   },
   "file_extension": ".py",
   "mimetype": "text/x-python",
   "name": "python",
   "nbconvert_exporter": "python",
   "pygments_lexer": "ipython3",
   "version": "3.10.14"
  }
 },
 "nbformat": 4,
 "nbformat_minor": 2
}
