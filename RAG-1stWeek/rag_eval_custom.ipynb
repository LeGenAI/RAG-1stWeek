{
 "cells": [
  {
   "cell_type": "code",
   "execution_count": 1,
   "metadata": {},
   "outputs": [],
   "source": [
    "import pickle  # pickle 모듈을 import하여 데이터를 바이너리 형식으로 저장 및 로드할 수 있도록 함\n",
    "\n",
    "with open('./res/rag-custom.pkl', 'rb') as f:  # 바이너리 읽기 모드로 'rag_data.pkl' 파일 열기\n",
    "    rag_data = pickle.load(f)  # 파일에서 데이터를 읽어와 'rag_data' 변수에 저장"
   ]
  },
  {
   "cell_type": "code",
   "execution_count": 2,
   "metadata": {},
   "outputs": [
    {
     "data": {
      "text/plain": [
       "'What are some of the skills taught in the Trail Patrol Training course?'"
      ]
     },
     "execution_count": 2,
     "metadata": {},
     "output_type": "execute_result"
    }
   ],
   "source": [
    "rag_data['questions'][0]  # 'rag_data'에서 첫 번째 질문을 출력"
   ]
  },
  {
   "cell_type": "code",
   "execution_count": 3,
   "metadata": {},
   "outputs": [
    {
     "data": {
      "text/plain": [
       "'Trail Patrol Training\\nWant to be a part of the Trail Patrol ?? Join an Orientation & Hike on the 1st Tuesday of each month. This course is required for all PATC members interested in joining the PATC Trail Patrol.\\nThe course teaches the essential skills necessary to be a trail patrol member and to provide a reassuring presence on the trail while teaching safety and environmental responsibility. A Trail Patrol handbook is provided to all students. Please bring a pencil, your hiking daypack & lunch.\\nMore Info: View the Calendar or contact TP Training or visit the Trail Patrol Training web pages.\\nHike Leader Class.\\nMore Info: Contact Hike Leader Training or click here to register.\\nBackpacking Classes\\nEducating people in safe and environmentally friendly practices for traveling into the backcountry is one of Trail Patrol’s core responsibilities. We offer backpacking classes for novices seeking to take up backpacking as well as for experienced backpackers.\\nBackpacking 101: An Introductory Course is for beginners & those who want to update rusty skills. It includes a weekend overnight backpacking trip. Instruction covers equipment selection and use, information and techniques to enhance safety and comfort, and Leave No Trace methods to protect our fragile backcountry environment.\\nMore Info: Contact Backpacking Training or click here to register.\\nBackpacking 202: Planning and leading group trips is for Backpacking 101 graduates and others with comparable experience. This class provides the opportunity to take it to the next level by developing special skill needed to plan and lead group trips. Pre-trip planning sessions will cover equipment selection and use, route planning, food planning, improving safety and comfort, managing the unexpected, and Leave No Trace principles to protect our fragile backcountry environment.\\nIncludes a weekend overnight backpacking trip.\\nMore Info: Contact Backpacking Training or click here to register.\\nLightweight Backpacking: Techniques for reducing pack weight without compromising safety - for both experienced and new backpackers. One-day workshop, no backpacking trip. This one-day workshop is designed to acquaint backpackers with the importance of weight considerations when choosing and using equipment, and to instill a weight-conscience mind set when packing for an overnight trip. It is not intended to advocate an ultra light philosophy. Each student attending the class will be encouraged to bring a pack fully loaded, less food and water, with everything they would normally carry on a 3-day, 2-night trip of 10\\nPre-registration is required. Class is limited to 25 students.\\nMore Info: Contact Backpacking Training or click here to register.\\nWilderness First Aid\\nBasic Wilderness First Aid (BWFA) is a 2-day workshop. Day one covers Adult CPR and AED and American Heart Association First Aid. You will receive a textbook and a certification card good for two years. Day two is American Safety and Health Institute (ASHI) Basic Wilderness First Aid. You will learn how to do bleeding control, splinting and other basic first aid skills in the wilderness setting. There is plenty of hands-on time & paramedics with years of backcountry experience teach the classes.\\nMore Info: Contact TP First Aid or click here to register.\\nWilderness First Aid (WFA)\\nJoin us for a 20-hour Wilderness First Aid Class! In this class, you will learn how to get help, move and transport patients, conduct patient assessments, documentation, how to handle medical and environmental emergencies, injury prevention and care, and much more. There is plenty of hands-on practice time as well as scenarios. This class is conducted inside and outside on the trail. Each student will receive a certification card good for two years through ECSI and a waterproof field guide. No experience required.\\nMore Info: Contact TP First Aid or click here to register.\\nLeave No Trace Trainer Course\\nThese courses are designed to enhance your understanding of Leave No Trace practices and ethics and to increase your level of expertise and confidence in teaching Leave No Trace skills. Through focused activities, hands‑on field experience and both formal and informal discussions, you will be introduced to concepts and methods that will advance your knowledge of Leave No Trace issues, expand your repertoire of low‑impact skills and increase your effectiveness in teaching these important skills to others.\\nOn completion of this course, participants will be registered as Leave No Trace Trainers with the national Leave No Trace Center for Outdoor Ethics and will receive a certificate of course completion as well as their Leave No Trace Trainer lapel pin.\\nMore Info: Contact TP LNT or click here to register.'"
      ]
     },
     "execution_count": 3,
     "metadata": {},
     "output_type": "execute_result"
    }
   ],
   "source": [
    "rag_data['contexts'][0]  # 'rag_data'에서 첫 번째 문맥 리스트를 출력"
   ]
  },
  {
   "cell_type": "code",
   "execution_count": 4,
   "metadata": {},
   "outputs": [
    {
     "name": "stdout",
     "output_type": "stream",
     "text": [
      "0.11002266520189832\n",
      "0.07480343102199662\n",
      "0.041763653646215856\n"
     ]
    }
   ],
   "source": [
    "from utils import get_embedding, cosine_similarity  # 사용자 정의 모듈 utils에서 get_embedding 함수와 cosine_similarity 함수를 import\n",
    "\n",
    "embed_q = get_embedding(rag_data['questions'][0])  # 첫 번째 질문의 임베딩을 생성\n",
    "embed_c0 = get_embedding(rag_data['contexts'][0][0])  # 첫 번째 문맥 리스트의 첫 번째 문맥에 대한 임베딩 생성\n",
    "embed_c1 = get_embedding(rag_data['contexts'][0][1])  # 첫 번째 문맥 리스트의 두 번째 문맥에 대한 임베딩 생성\n",
    "embed_c2 = get_embedding(rag_data['contexts'][0][2])  # 첫 번째 문맥 리스트의 세 번째 문맥에 대한 임베딩 생성\n",
    "\n",
    "print(cosine_similarity(embed_q, embed_c0))  # 질문 임베딩과 첫 번째 문맥 임베딩 간의 코사인 유사도 출력\n",
    "print(cosine_similarity(embed_q, embed_c1))  # 질문 임베딩과 두 번째 문맥 임베딩 간의 코사인 유사도 출력\n",
    "print(cosine_similarity(embed_q, embed_c2))  # 질문 임베딩과 세 번째 문맥 임베딩 간의 코사인 유사도 출력"
   ]
  },
  {
   "cell_type": "code",
   "execution_count": 5,
   "metadata": {},
   "outputs": [
    {
     "data": {
      "text/plain": [
       "0"
      ]
     },
     "execution_count": 5,
     "metadata": {},
     "output_type": "execute_result"
    }
   ],
   "source": [
    "rag_data['contexts_answer_idx'][0]  # 첫 번째 질문에 대한 정답 문맥 인덱스 출력"
   ]
  },
  {
   "cell_type": "code",
   "execution_count": 6,
   "metadata": {},
   "outputs": [
    {
     "name": "stdout",
     "output_type": "stream",
     "text": [
      "0.10867087813080151\n",
      "0.021356636340793884\n",
      "0.035892125816805086\n"
     ]
    }
   ],
   "source": [
    "embed_q = get_embedding(rag_data['questions'][0], model='text-embedding-3-large')  # 'text-embedding-3-large' 모델을 사용하여 첫 번째 질문 임베딩 생성\n",
    "embed_c0 = get_embedding(rag_data['contexts'][0][0], model='text-embedding-3-large')  # 동일한 모델을 사용하여 첫 번째 문맥 임베딩 생성\n",
    "embed_c1 = get_embedding(rag_data['contexts'][0][1], model='text-embedding-3-large')  # 동일한 모델을 사용하여 두 번째 문맥 임베딩 생성\n",
    "embed_c2 = get_embedding(rag_data['contexts'][0][2], model='text-embedding-3-large')  # 동일한 모델을 사용하여 세 번째 문맥 임베딩 생성\n",
    "\n",
    "print(cosine_similarity(embed_q, embed_c0))  # 질문 임베딩과 첫 번째 문맥 임베딩 간의 코사인 유사도 출력\n",
    "print(cosine_similarity(embed_q, embed_c1))  # 질문 임베딩과 두 번째 문맥 임베딩 간의 코사인 유사도 출력\n",
    "print(cosine_similarity(embed_q, embed_c2))  # 질문 임베딩과 세 번째 문맥 임베딩 간의 코사인 유사도 출력"
   ]
  },
  {
   "cell_type": "code",
   "execution_count": 7,
   "metadata": {},
   "outputs": [
    {
     "name": "stderr",
     "output_type": "stream",
     "text": [
      "100%|██████████| 10/10 [00:25<00:00,  2.52s/it]"
     ]
    },
    {
     "name": "stdout",
     "output_type": "stream",
     "text": [
      "Top context indices: [0, 1, 1, 1, 0, 0, 2, 1, 0, 0]\n"
     ]
    },
    {
     "name": "stderr",
     "output_type": "stream",
     "text": [
      "\n"
     ]
    }
   ],
   "source": [
    "from tqdm import tqdm  # 진행 상태 표시를 위한 tqdm 모듈 import\n",
    "\n",
    "num_questions = 10  # 처리할 질문 수 설정\n",
    "num_contexts = 3  # 처리할 문맥 수 설정\n",
    "\n",
    "top_context_indices = []  # 상위 문맥 인덱스를 저장할 리스트 초기화\n",
    "\n",
    "for i in tqdm(range(num_questions)):  # 질문 수 만큼 반복, 진행 상태를 tqdm으로 표시\n",
    "  embed_q = get_embedding(rag_data['questions'][i])  # 현재 질문에 대한 임베딩 생성\n",
    "\n",
    "  similarities = []  # 유사도 값 저장할 리스트 초기화\n",
    "  for j in range(num_contexts):  # 문맥 수 만큼 반복\n",
    "    embed_c = get_embedding(rag_data['contexts'][i][j])  # 현재 문맥에 대한 임베딩 생성\n",
    "    similarities.append(cosine_similarity(embed_q, embed_c))  # 질문과 문맥 간의 코사인 유사도 계산 후 추가\n",
    "\n",
    "  top_context_index = similarities.index(max(similarities))  # 가장 높은 유사도를 가진 문맥의 인덱스 찾기\n",
    "  top_context_indices.append(top_context_index)  # 상위 문맥 인덱스 리스트에 추가\n",
    "\n",
    "print(f\"Top context indices: {top_context_indices}\")  # 상위 문맥 인덱스 출력"
   ]
  },
  {
   "cell_type": "code",
   "execution_count": 8,
   "metadata": {},
   "outputs": [
    {
     "data": {
      "text/plain": [
       "[0, 0, 0, 0, 0, 0, 0, 0, 0, 0]"
      ]
     },
     "execution_count": 8,
     "metadata": {},
     "output_type": "execute_result"
    }
   ],
   "source": [
    "rag_data['contexts_answer_idx'][:num_questions]  # 정답 문맥 인덱스의 상위 10개 출력"
   ]
  },
  {
   "cell_type": "code",
   "execution_count": 9,
   "metadata": {},
   "outputs": [
    {
     "name": "stdout",
     "output_type": "stream",
     "text": [
      "Accuracy: 50.00%\n"
     ]
    }
   ],
   "source": [
    "def calculate_accuracy(predicted, actual):  # 예측과 실제 정답 간의 정확도를 계산하는 함수 정의\n",
    "  correct = sum(p == a for p, a in zip(predicted, actual))  # 예측이 실제 정답과 일치하는 경우 수를 계산\n",
    "  total = len(predicted)  # 총 예측 수 계산\n",
    "\n",
    "  accuracy = correct / total  # 정확도 계산\n",
    "  return accuracy  # 정확도 반환\n",
    "\n",
    "accuracy = calculate_accuracy(top_context_indices, rag_data['contexts_answer_idx'][:10])  # 상위 문맥 인덱스와 정답 문맥 인덱스 비교하여 정확도 계산\n",
    "print(f\"Accuracy: {accuracy:.2%}\")  # 정확도를 백분율 형식으로 출력"
   ]
  },
  {
   "cell_type": "code",
   "execution_count": 10,
   "metadata": {},
   "outputs": [
    {
     "data": {
      "text/plain": [
       "[['T'], ['o'], ['u'], ['n'], ['('], ['H'], ['i'], ['e'], ['T'], ['S']]"
      ]
     },
     "execution_count": 10,
     "metadata": {},
     "output_type": "execute_result"
    }
   ],
   "source": [
    "contexts_predictions = []  # 예측된 문맥 리스트 초기화\n",
    "for i in range(len(top_context_indices)):  # 예측된 인덱스 수 만큼 반복\n",
    "    index = top_context_indices[i]  # 현재 예측된 인덱스\n",
    "    contexts_predictions.append([rag_data['contexts'][i][index]])  # 예측된 문맥 추가\n",
    "contexts_predictions  # 예측된 문맥 리스트 출력"
   ]
  },
  {
   "cell_type": "code",
   "execution_count": 11,
   "metadata": {},
   "outputs": [
    {
     "name": "stdout",
     "output_type": "stream",
     "text": [
      "[['T'], ['o'], ['u'], ['n'], ['('], ['H'], ['i'], ['e'], ['T'], ['S']]\n"
     ]
    }
   ],
   "source": [
    "print(contexts_predictions)  # 예측된 문맥 출력"
   ]
  },
  {
   "cell_type": "code",
   "execution_count": 12,
   "metadata": {},
   "outputs": [
    {
     "name": "stdout",
     "output_type": "stream",
     "text": [
      "['What are some of the skills taught in the Trail Patrol Training course?', 'Who was the original owner of the lot of items being sold?', 'What is the main objective of Humanity Road as a non-profit organization?', 'Who were the two convicted killers that escaped from an upstate New York maximum-security prison?', 'Who was the person that came to help when Isaac was sick?', 'What change has been observed in the banking industry in Hong Kong since the 2008 financial crisis?', 'What is a \"Cultural Muslim\" according to Kaighla Um Dayo?', \"Who was providing financial support for Lou's daughter Joan?\", 'What mistakes did the narrator make during his run?', 'Who is the 65th attorney general of New York state?']\n"
     ]
    }
   ],
   "source": [
    "print(rag_data['questions'][:10])  # 상위 10개의 질문 출력"
   ]
  },
  {
   "cell_type": "code",
   "execution_count": 13,
   "metadata": {},
   "outputs": [
    {
     "name": "stdout",
     "output_type": "stream",
     "text": [
      "['The course teaches the essential skills necessary to be a trail patrol member and to provide a reassuring presence on the trail while teaching safety and environmental responsibility.', 'The original lot of items belonged to Lt. Neil D. Kennedy, an AAF officer who served in the CBI theater.', \"The main objective of Humanity Road is to 'close the black hole of communication' by linking disaster affected communities to the emergency response organizations.\", 'The two convicted killers that escaped from an upstate New York maximum-security prison were Richard Matt and David Sweat.', 'Jesus was the person who came to help when Isaac was sick.', 'Since the 2008 financial crisis, the banking industry in Hong Kong has become less exciting, more scrutinized, and often less lucrative. As a result, many executives have started their own businesses. Banks are less generous about compensation, have reined in their spending and growth plans, and are not encouraging bankers to innovate.', 'A \"Cultural Muslim\" is someone who calls themselves Muslim, but has no deep connection to their creator. They may wear hijab or pray at Eid prayers only because it’s a cultural demand in their family/society. They might fast one day of Ramadan to feel like they are part of the festivities, but otherwise have no deeper connection with God.', \"David was providing financial support for Lou's daughter Joan.\", 'The narrator made several mistakes during his run. He ate too much before the run, he started running too quickly, he ignored the fact that he was struggling, he put unnecessary strain on his heart, and he could have triggered an asthma attack. He also ignored the basic rule of his run being an LSD (Long, Slow, Distance), and instead rushed it, which resulted in him feeling nauseous.', 'Eric T. Schneiderman is the 65th attorney general of New York state.']\n"
     ]
    }
   ],
   "source": [
    "print(rag_data['answers'][:10])  # 상위 10개의 정답 출력"
   ]
  },
  {
   "cell_type": "code",
   "execution_count": 14,
   "metadata": {},
   "outputs": [
    {
     "name": "stdout",
     "output_type": "stream",
     "text": [
      "['Trail Patrol Training\\nWant to be a part of the Trail Patrol ?? Join an Orientation & Hike on the 1st Tuesday of each month. This course is required for all PATC members interested in joining the PATC Trail Patrol.\\nThe course teaches the essential skills necessary to be a trail patrol member and to provide a reassuring presence on the trail while teaching safety and environmental responsibility. A Trail Patrol handbook is provided to all students. Please bring a pencil, your hiking daypack & lunch.\\nMore Info: View the Calendar or contact TP Training or visit the Trail Patrol Training web pages.\\nHike Leader Class.\\nMore Info: Contact Hike Leader Training or click here to register.\\nBackpacking Classes\\nEducating people in safe and environmentally friendly practices for traveling into the backcountry is one of Trail Patrol’s core responsibilities. We offer backpacking classes for novices seeking to take up backpacking as well as for experienced backpackers.\\nBackpacking 101: An Introductory Course is for beginners & those who want to update rusty skills. It includes a weekend overnight backpacking trip. Instruction covers equipment selection and use, information and techniques to enhance safety and comfort, and Leave No Trace methods to protect our fragile backcountry environment.\\nMore Info: Contact Backpacking Training or click here to register.\\nBackpacking 202: Planning and leading group trips is for Backpacking 101 graduates and others with comparable experience. This class provides the opportunity to take it to the next level by developing special skill needed to plan and lead group trips. Pre-trip planning sessions will cover equipment selection and use, route planning, food planning, improving safety and comfort, managing the unexpected, and Leave No Trace principles to protect our fragile backcountry environment.\\nIncludes a weekend overnight backpacking trip.\\nMore Info: Contact Backpacking Training or click here to register.\\nLightweight Backpacking: Techniques for reducing pack weight without compromising safety - for both experienced and new backpackers. One-day workshop, no backpacking trip. This one-day workshop is designed to acquaint backpackers with the importance of weight considerations when choosing and using equipment, and to instill a weight-conscience mind set when packing for an overnight trip. It is not intended to advocate an ultra light philosophy. Each student attending the class will be encouraged to bring a pack fully loaded, less food and water, with everything they would normally carry on a 3-day, 2-night trip of 10\\nPre-registration is required. Class is limited to 25 students.\\nMore Info: Contact Backpacking Training or click here to register.\\nWilderness First Aid\\nBasic Wilderness First Aid (BWFA) is a 2-day workshop. Day one covers Adult CPR and AED and American Heart Association First Aid. You will receive a textbook and a certification card good for two years. Day two is American Safety and Health Institute (ASHI) Basic Wilderness First Aid. You will learn how to do bleeding control, splinting and other basic first aid skills in the wilderness setting. There is plenty of hands-on time & paramedics with years of backcountry experience teach the classes.\\nMore Info: Contact TP First Aid or click here to register.\\nWilderness First Aid (WFA)\\nJoin us for a 20-hour Wilderness First Aid Class! In this class, you will learn how to get help, move and transport patients, conduct patient assessments, documentation, how to handle medical and environmental emergencies, injury prevention and care, and much more. There is plenty of hands-on practice time as well as scenarios. This class is conducted inside and outside on the trail. Each student will receive a certification card good for two years through ECSI and a waterproof field guide. No experience required.\\nMore Info: Contact TP First Aid or click here to register.\\nLeave No Trace Trainer Course\\nThese courses are designed to enhance your understanding of Leave No Trace practices and ethics and to increase your level of expertise and confidence in teaching Leave No Trace skills. Through focused activities, hands‑on field experience and both formal and informal discussions, you will be introduced to concepts and methods that will advance your knowledge of Leave No Trace issues, expand your repertoire of low‑impact skills and increase your effectiveness in teaching these important skills to others.\\nOn completion of this course, participants will be registered as Leave No Trace Trainers with the national Leave No Trace Center for Outdoor Ethics and will receive a certificate of course completion as well as their Leave No Trace Trainer lapel pin.\\nMore Info: Contact TP LNT or click here to register.', 'Lot Of Cbi Theater Ww2 Letters, 2 Newspapers, 3 Photos, Aaf Officer\\nThis item has been shown 0 times.\\nLot Of Cbi Theater Ww2 Letters, 2 Newspapers, 3 Photos, Aaf Officer:\\n$53\\nATTENTION: PLEASE READ THIS updated payment policy as of Nov. 2012: payment is expected within 2 weeks, if there is no payment or communication after 4 weeks, a dispute will automatically be opened on . If you have a LEGITIMATE excuse & need more time, let me know & I will be happy to work with you. All non-paying buyers will be reported, as well as blocked from offerding. I\\'m forced to adopt this new policy after several people have won items and not paid for them, costing me time & money.\\nIf there is any problem at all with the item(s) you purchased, or if the item(s) didn’t arrive in the mail, contact meFIRST, and I will work hard to quickly resolve the problem. Check my response, I treat all my customers in a fair and honorable way, please do the same with me. Before leaving response or opening a dispute, all I ask is that you give me a chance to know about the problem and resolve it!\\nYes, I always combine shipping on multiple sale wins, but to take advantage of the shipping discount you must pay for everything at once, NOT separately.\\nInternational customers: if you want a package registered, then you MUST pay the additional fee. Import duties, taxes and charges are not included in the item price or shipping charges. These charges are the buyer\\'s responsibility. Please check with your country\\'s customs office to determine what these additional costs will be prior to offerding/buying. I do not and will not mark merchandise values below value or mark items as \"gifts\" - US and international government regulations prohibit such original lot of items belonging to Lt. Neil D. Kennedy, an AAF officer who served in the CBI theater, first in India then in China. There are approx. 25 letters & V-Mail cards dated from 1944-45, some written right after the war ended. Some of the envelopes are empty. 1 letter & 1 V-Mail are without envelopes. Inside 1 envelope there are 3 small photos of U.S. & Chinese soldiers. 2 envelopes contain issues of \"The China Lantern\" newspaper. For an officer, his writing is unusually difficult to read, so I have no idea as to the content of the letters.\\nThanks for looking, and good luck offerding!\\nLot Of Cbi Theater Ww2 Letters, 2 Newspapers, 3 Photos, Aaf Officer:\\n$53\\nU.s. Naval Operations Base-c C Baughman-commodore-1944 Thanksgiving Menu\\nSeabees Seabee Letters Papers World War Two 2 32nd Battalion Navy China\\nCertificate Of Completion United States Army 1943 Usa\\n', 'Just.\\nWe are a small all volunteer NGO Humanity Road has been instrumental in helping us achieve our objectives. They are a first class ethical organization.\\nThank you Humanity Road for helping us help others.\\nCaptain Mark Drewelow\\nFounder, YachtAid Global.\\nHave had a brief time working with Humanity Road and must say the people are amazing. They very much care about the world and the events that affect others around the world. I have been very thankful to have met them and continue to work with them in many aspects. thank you for the great work all of you do.\\nHumanity Road (HR) is a unique not for profit organisation that remain steadfast and focused on what they are good at - \\'closing the black hole of communication\\' by linking disaster affected communities to the emergency response organisations.\\nAs a volunteer, i can attest to the fact that at Humanity Road, they matched words with action. In fact, i witnessed a moment where HR volunteers monitored three tropical storms, three hurricanes, two earthquakes and two disaster exercise within 48 hours.\\nHR volunteers are always eager to provide help, train volunteers and make a difference.!\\nI have worked with HumanityRoad for a number of years. During this time, I have managed a number of disasters and planned events.\\nHumanity Road has consistently been involved on a global scale while maintaining their interest in what happens locally.\\nHumanity Road is an excellent Non-Profit.\\nAs a student , the ways in which I am being benefitted from being a part of this organization are:-\\n1) Practical and global exposure to what I am learning in class\\n2)Work at my convenience\\n3) Systematic training provided periodically or as per request.\\nAfter Hurricane Sandy in NYC our team of designers had a chance to work with Humanity Road, who were in the midst of supporting the most vulnerable citizens in New York City. HR gave us invaluable information about the immediate needs of rescue workers in a crises. Our product development benefitted greatly. They have continued to support and help our efforts by connecting us to people in different countries that do first responder work. HR are organized, compassionate and up to date with communication strategies and needs for emergency workers.\\nHumanity Road is a dedicated non-profit with a global volunteer network. Their training, tools, and support are fantastic and the volunteers are vigilant in producing accurate and reliable information during times of disaster and crisis. With Humanity Road there will always be someone there to respond and help those in need!\\nHumanity Road fills a unique niche in the demand for digital information around the globe when disaster strikes. No one provides such vital detailed information during times of crisis as Humanity Road. The efficiency and effectiveness of this organization is simply outstanding. I urge you to find a way to support them with donations or exposure. Find them on Facebook, like them and share Humanity Road\\'s page.\\nHumanity Road is a very special organization driven by very special people. I joined the team as a volunteer in the wake of the recent Nepal earthquake. Since then, I have been trained in various activities of the organization. I have realized that Humanity Road fills a critical gap between formal disaster response systems and real-time deployments. Using technology as an essential tool, Humanity Road has been of commendable service in situations where prompt interventions are needed. The work they do is outstanding, and the dedication of the team to an urgent need is remarkable.\\nAs an expert in HADR Radio Communications I truly understand the power of swift and clear communications. Humanity Road is one of the most inspiring and relevant non profits that exist in this sector today. Their obvious passion for helping people during the humanitarian disasters is equal only to the extraordinary results they achieve when they \"deploy\". The aggregated data that is collected via the various sources of social media they analyse helps guide the big organisations more efficiently in helping the affected people. However they also live and die by the adage that they must always keep the human in humanitarian relief, it may all be online but it always more about the people.\\nAs a Pacific Disaster Center representative I worked with Humanity Road (HR) staff in an exercise environment supporting a multination disaster response exercise. The HR staff were clearly experts in their field. PDC looks forward working with HR in the future on real or exercise environment disaster response.\\nRespectfully,\\nLara Payne\\nPacific Disaster Center\\nHR is working in an Industry Consortium called the Network Centric Operations Industry Consortium (NCOIC) to advance interoperability in our Rapid Response Incubator. These efforts hope someday to enable all parties involved in disasters, from victims to governments, front line to back office, even gamers and social networkers, to operate at their best in a secure-enough fashion to speed and lower the cost of response. Remember, we could all become the victims at any moment, if things go badly. HR is there, wherever there is..\\nI believe Humanity Road will play a growing and ever more important role helping us all adapt to and leverage this trend as their ecosystem of partners and subscribers grows.', 'One of two convicted killers who escaped from an upstate New York maximum-security prison was killed Friday by law enforcement officers near the Canadian border, according to New York Gov. Andrew Cuomo.\\nRichard Matt was killed, Cuomo said. David Sweat\\'s whereabouts are unknown.\\n“We have no reason to believe that Mr. Sweat was not with Mr. Matt at that time [of the shooting], but we don\\'t have any confirming evidence that he was, either,” the governor said. “There are several leads that are being tracked down as we speak.”\\nMatt was killed in a wooded area in the town of Malone, about 40 miles west of Dannemora, where the prison is located, according to officials. Both towns are near the Canadian border.\\nNew York State Police Supt. Joseph D\\'Amico said Matt was \"shot dead\" by a tactical team from U.S. Customs and Border Protection.\\n\"We recovered a 20-gauge shotgun from Matt\\'s body at the location,\" D\\'Amico said.\\nMatt did not shoot at police during the encounter, authorities said.\\n\"They verbally challenged him, told him to put up his hands. And at that time, he was shot when he didn\\'t comply,\" D\\'Amico said.\\nMatt was tracked down after a motorist reported about 1:51 p.m. that someone shot at their camper near Route 30, according to authorities.\\nA cabin in the area of the shooting was searched and police found evidence that a gun had been fired inside and someone had recently left, D\\'Amico said. While searching the nearby woods, authorities heard coughs, which is when they encountered and killed Matt, D\\'Amico said.\\nAuthorities continue to search the area for Sweat, D\\'Amico said.\\n\"We have no actual sighting of Sweat by law enforcement, but we have no indication that Sweat wasn’t accompanying Matt at the time that he was shot and killed, so we’re going to maintain the perimeter that we have,” D\\'Amico said.\\nBoth men had been on the run since they were found missing from the Clinton Correctional Facility on June 6.\\nAuthorities have followed up on more than 2,400 leads, D\\'Amico said.\\nMatt and Sweat used power tools to saw through a steel cell wall and several steel steam pipes. They made a hole through a 2-foot-thick brick wall and squirmed through pipes.\\nSweat was serving a sentence of life without parole for killing a sheriff\\'s deputy in Broome County in 2002. Matt was serving 25 years to life for killing and dismembering his former boss.\\nThe search for the escaped inmates sparked a search that extended to the Mexican border and involved hundreds of law enforcement officials, including local police and FBI agents.\\nThe news follows a flurry of possible sightings by reported residents in rural areas of New York, both near the prison and hundreds of miles away near the Pennsylvania border.\\nA strong lead came this week, when someone reported a burglary at a cabin about 20 miles from the prison. New York State Police seized items from the cabin to test for DNA and said evidence indicated the men \"may have spent time\" in the cabin.\\nMatt, 48, and Sweat, 35, tricked correctional officers at the prison by making dummies and stuffing them into their beds the night they fled. They were discovered missing at a 5:30 a.m. bed check on June 6.\\nOfficials have said the men used power tools to cut through metal and brick walls and pipes, and then made their way via underground pipes to a manhole a few hundred feet from the prison walls. They emerged from the manhole and fled.\\nA civilian prison employee, Joyce Mitchell, was arrested June 12 and charged with a felony and a misdemeanor on allegations of smuggling hacksaw blades, chisels, a hole punch and a screwdriver bit into the prison to help the men escape. Mitchell has pleaded not guilty.\\nA second arrest was made Wednesday evening. Prison guard Gene Palmer faces charges including promoting prison contraband and tampering with physical evidence.\\nA $100,000 reward had been offered for information leading to the escapees\\' arrest.\\nMatt and Sweat defied the odds in remaining at large so long, according to prison escape data compiled by the New York Department of Corrections and Community Supervision. Between 2002 and 2012, of the 29 inmates who escaped from New York state prisons, all were caught within three days.\\nSerrano reported from Washington and Parker from Los Angeles. Times staff writers Tina Susman, Matt Pearce, Christine Mai-Duc, James Queally contributed to this report.\\nFollow Ryan Parker on Twitter, Facebook and Instagram', '(Continued from Part 1...)\\n(Thirty years later…)\\n“Hannah, come here. Quickly, now!” I yelled. I was weary, and could not bear to call for my child another time. My husband, Michael, was several towns away, looking for work to provide for our family. We were married twenty-five years ago, and have only two children. Hannah and Isaac are good children, though they are often disrespectful and rude. I was nearly past my child-bearing years, and I wished desperately that we had been able to have more children. But God must not have meant it to be so, and I tried to remain content.\\nFor some reason, however, I was always angry about something, and I could not do anything about the bitterness that I carried about within me. Deep inside, I knew that it stemmed from my jealousy of Mary. She had given birth to the “Savior” and he seemed like a perfectly normal child. There was nothing special about him. Although he is grown now, I have yet to see him save the world. Mary had gone on to have eight more children, and I was jealous of her ability to have such a wonderful family.\\nI have not talked to Mary since that fateful day when she told me of her pregnancy. I let myself stay angry at her, and, even now, I have no intention of forgiving her. What she did was just too wrong for me to let go of. Do I carry a grudge? Perhaps, but she deserves it.\\nHannah finally came in from outside, her face red from the cold. She went straight to the fire and began warming her hands and cheeks. I watched my daughter and thought to myself how beautiful she was. Nearly twelve, she was nearing the age of womanhood, when she would think of marrying and leaving me. I tried not to think about it, but I did know that it was inevitable.\\n“Why were you calling me, Mama?” she asked. “I need you to find Isaac for me. I haven’t seen him all morning,” I said. Hannah nodded and went off in search of her brother. Isaac was forever getting into trouble, though it seemed that trouble usually found him. I sighed at the thought of bringing up such a rambunctious boy, but I knew that Michael was teaching Isaac how to be a man. Though he was only seven, he had a love for life that I admired.\\nWhen I watched Isaac laugh so joyously, it made me realize that something inside of me had died; the part that loved life and looked for the good in every situation. Bitterness and anger had become such a part of my routine, that I did not even try to change my ways.\\n“Mama!” came the cry from outside. I pulled a shawl over my shoulders and hurried outside to see what was the matter. Hannah was hunched over something in our field, and I ran over to see who it was.\\nIt was Isaac. Nearly frozen, he lay collapsed on the ground huddled in a ball. I felt his forehead. It was a fever higher than I had ever felt before.\\n“No,” I breathed. It couldn’t be my Isaac. My beautiful, lively boy was laying there, closer to death than I had ever seen before. “Hannah! Run and fetch someone. The doctor. Someone!” I yelled. Hannah’s frightened face melted my heart, and I lay a hand on her shoulder to comfort her. As she ran off, I lifted my sweet boy into my arms and carried him inside. I wrapped him in blankets and tried to get him to drink water, but all he could do was moan and tremble.\\nMy son was dying.\\nHannah came running back with a man I had not seen in a long while.\\nIt was Jesus. The man who I had come to loathe.\\n“What are you doing here?!” I screamed. Jesus looked at me calmly, taking my hand and leading me to a chair. I could not speak. Why was he being so kind to me? He went over to Isaac and sat on the pallet next to him. He took my son’s hand and looked at him with a tenderness I had never seen before. Part of me wanted to scream at him to stop touching my boy, but something inside of me stopped and I watched in wonder as he breathed words that I could not hear into Isaac’s ear. What seemed like only a moment later, a short gasp came from Isaac’s lips, and his eyes fluttered open. I hastened to his bedside, and looked into his face.\\nHis fever had broken.\\nI looked at Jesus in bewilderment, and he looked back at me with eyes that told of something I had never seen before. I still do not know what it was, but I do know that it was something I had never seen in a man here on earth. I looked up to thank Jesus, but he had already gone, slowly shutting the door and leaving without expecting any thanks.\\nMy bitter heart melted only slightly, and I realized that maybe I could be wrong. Months later, I had come to think of the miracle as only a coincidence. Jesus had only been there at the exact moment Isaac’s fever had broken. It wasn’t his doing. It was luck. Chance. Coincidence.\\nMy heart hardened even further, and I thought that nothing could break through the wall I had built around my heart. Nothing could touch me and erase the bitterness encasing my ability to forgive.\\nNothing could break me.\\n1 year ago', 'Hong Kong’s banking industry—like the rest of the world’s—has become a lot less exciting, more closely scrutinized and often less lucrative for its one-time rainmakers. As a result, executives from the cloistered confines of banking are doing something that would have been unthinkable, even horrifying, just a decade ago: starting their own businesses.\\nBanking is a “very different field” than it was before the 2008 financial crisis, said Simon Loong, an ex-Citibank and Standard Chartered manager who founded the peer-to-peer lending platform WeLend in 2012. Banks are less generous about compensation, have reined in their spending and growth plans, and are not encouraging bankers to innovate: “It’s not as fun as before.”\\nRather than leaving Hong Kong in search of the next banking hot-spot, a growing number of finance pros like Loong have started businesses, from last-minute hotel booking websites to crowd-funding groups to organic farms. The career-hopping has helped push start-ups to 16% of new investments in Hong Kong last year, from 11% in 2010, Bloomberg reported today.\\nIn many cases, they’re going directly after their old employers’ business. WeLend, which aims to cut out the “expensive middlemen” in lending (aka banks and bankers), now has over 3,500 members, and has made over HK$195 million in loans with a team that includes former bankers from HSBC, Goldman Sachs and Bank of Montreal. James Giancotti, a former Goldman Sachs and JP Morgan banker, has attracted more than 900 backers for his crowd-funding company BigColors. Often, these funders are other bankers still at big financial firms he said, looking for their “ticket out of banking,” he told Bloomberg.\\nThese finance-focused start-ups help explain why despite several ho-hum years for banking in Hong Kong, jobs in the broader finance sector accounted for 19% (pdf, pg 2) of Hong Kong’s overall employment in 2012, up from 16% (pdf) in 2007—an increase of 151,000 jobs.\\nHong Kong is rich with foreign bankers who arrived with a multinational corporation and then stayed on after the job disappeared or became less appealing, in thrall with the easy climate, high quality of life (pollution notwithstanding) and the low tax rates. “I thought I’d be here for three years, but it has been 15,” is a common expat refrain; many parents even send their kids to boarding school in their home country while they stay in Hong Kong.\\nJumping to a start-up means forgoing the fancy hotels and business class flights of the banking industry, but in Hong Kong it doesn’t always mean taking a massive pay cut. WeLab pays “competitively,” in part because it is hard to lure talent in Hong Kong with astronomical rents otherwise, Loong said—though he admits pay is “not our top attraction.” Bankers who make the jump are looking for an opportunity to “impact the future, and make a change in the field they know, which is finance,” he said.', 'written by Kaighla Um Dayo\\nWhen I converted to Islam nearly 8 years ago, I had no idea there were literally millions of Muslims in the world who are Muslim only in name.\\nSome one who calls themselves Muslim, but has no connection to their creator can be called a “Cultural Muslim”. Cultural Muslims wear hijab, for example, only because it’s a cultural demand in their family/society; they only pray at Eid prayers and only because it’s a family/cultural obligation. They fast one day of Ramadan to feel like they are part of the festivities, but otherwise have no connection with God on a deeper level.\\nThe cultural Muslim is not unlike the “Christian” who my former pastor lovingly called part of the “CEM crowd”, or those who only attend church only on Christmas, Easter, and Mother’s Day.\\nTurns out, there are millions of Muslims who are only called such because their parents’ parents’ parents were practicing. “Muslim” has become synonymous with “good, kind person of Arab/Indian/Pakistani/Indo/Malay origin” in much the same way as “Christian” has become synonymous with “good, kind person who is American”.\\nNew Muslims cannot imagine that a day will come that they themselves could become a Cultural Muslim. And yet, I am here to say: it can happen to anyone.\\nI realized I had become a Cultural Muslim when the day came that I had more fear and trepidation at the idea of removing my hijab than I did about skipping prayers.\\nThe idea of removing my outer religious identity was more crippling than the idea of actually not being Muslim anymore. If faced with the choice to maintain my hijab but neglect my prayers, or remove my hijab for safety reasons in America (Trump), but maintain my prayers, I searched my heart and realized that I preferred the first option.\\nThis, my friends, is a severe disease of the heart.\\nBut why do I openly admit this to you, dear reader? Because too many converts come into Islam—and too many heritage Muslims start practicing Islam—with such zeal and fervor that they do not adequately prepare themselves for the day when the fervor flares out. I know because it happened to me.\\nIt’s kind of like being in a formerly passionate marriage: when that passion has fizzled out, there must be something under the passion to keep the marriage alive and healthy, something deeper and more reliable than passion, lust, and infatuation.\\nLikewise, the day will come for all those who feel the zeal when, because of this reason or that reason, they will burn out and begin to question if they are still on the right path, and they will need to have something deeper than zeal to keep them going.\\nWhen this realization hit me like a ton of bricks, I took some time and really investigated the deeper issues inside. Ultimately, I came to understand these things, and maybe they will help you, too:\\n- People cannot save me when I face Allah. My dearest friends and spouse and children and parents will not even think of me on that day.  that day, {their tongues, their hands, and their feet will bear witness against them as to their actions.} (Surat An-Nur, verse 24). {And they will say to their skin: ‘Why did you bear witness against us?’ They will say: ‘Allah has caused us to speak, as He cause all things to speak.’} (Surat Al-Fussillat, verse 21) I can just imagine my hijab, for example, speaking against me, saying “She wore me because it pleased her friends.” “She wore me because it pleased her husband.” “She wore me because it made her seem more pious.”\\n- The first thing Allah will ask me is about my prayer. Not my hijab. Not my education. Not my loyalty to my country or friends or family or tribe. First, my prayer. “The first thing the people will be accountable for on the Day of Judgment is prayer, Allah will say to His angels (even though he already knows) : “Look at my servants prayers. Were they complete or not?” […]” -Prophet Muhammad (Reported by Imams Ahmad, Abu Dawood, An-Nisa’i, and Al-Hakim)\\n- God will only accept my good deeds if I have a pure heart: {And disgrace me not on the Day when (all the creatures) will be resurrected; The Day whereon neither wealth nor sons will avail, except him who brings to Allah a clean heart [clean from Shirk (polytheism) and Nifaq (hypocrisy)].} (Surah ash-Shu’ara, verses 87-89)\\nAt the end of all things, it will only be my heart that saves me (or not), and what good will my struggling because of hijab or striving for my religion be if I did it to seem pious, or to please my family, or because I had finally found an identity to cling to and didn’t want to give it up?\\nI cannot willingly give up my soul while clinging tightly to my hijab and other outward shows of Islam. I cannot willingly toss aside all the work I have done on my heart by working to impress people around me rather than working to please All “Have I Become a Cultural Muslim?”\\nReblogged this on Frauen und Islam.\\nThank you!!\\nLikeLiked by 1 person\\nYou are welcome. this is a very common Problem we all need to talk about. It can happen to all of us at any time.', 'Next post; I dont mean gifts. I mean in general. And then she said no more about it, she would never say any more to Peter Northrop about Davids generosity because the mink coat was a pebble in a pond compared to the fact that David gave her money every month for her daughter Joan, who lived with Lous parents in West Philadelphia, who thought Lous parents were her real parents, who thought Lou was her older, glamorous sister with a big New York career job. David gave her one hundred dollars a month, which Lous parents gratefully accepted, asking no questions. They imagined that she made a great deal more money than she actually did, because she told them that she did. They had fanciful and unrealistic notions about the salary level of a roving reporter and Lou let them hang on to those notions. Her father would be shocked if he ever found out that she was having an affair with a married man three years his senior, shocked and disbelieving.\\nJunior Seau Style Fashion & Looks 2015\\nJunior Seau Info Chart\\nStyle Name Tiaina Baul “Junior” Seau, Jr\\nStyle Birth; January 19, 1969\\nStyle From; San Diego, California\\nStyle Occupations; NFL Player\\nStyle Relationship; Single\\nA-List; B-List\\n2015 Junior Seau, Junior Seau Hot, Junior Seau Workout Routine, Junior Seau Style, Junior Seau Styles, Junior Seau Style 2015, Junior Seau 2015 Styles, Junior Seau Look Book, Junior Seau Look Book 2015, Junior Seau 2015 Look Book, Junior Seau Dresses, Style of Junior Seau, Look Book of Junior Seau, Junior Seau Fashion, Junior Seau Looks, Junior Seau Looks 2015, 2015 Junior Seau Looks, 2015 Junior Seau Fashion, Junior Seau Fashion 2015, Junior Seau Hairstyles, Junior Seau Hairstyles 2015, junior seau, junior seau news, junior seau gossip, junior seau pictures, junior seau bio, junior seau video.', 'Two days after my riot-run and I am primed for my LSD. In the morning I have nine miles to fuel for and run before midday. I eat cereal, toast, a banana and sit down for a couple of hours. Rain begins to fall. I never like stepping out into it, but love running in it once I am warm and calm – too long though, and the soles of your feet begin to wear away inside your shoes. I hope my feet don’t get too wet too quickly. London is still recovering after its nights of rioting so I head towards Peckham (where there have been riots) and adjacent Dulwich, Lady Thatcher’s old constituency, where there haven’t. But there is something wrong. By the time I reach the bottom of my road (about a hundred metres) my legs feel like they are running on some stability-testing fairground ride. I am breathing heavily. I turn the corner and outside the Riley’s snooker hall on the wide pavement there are sizeable dollops of horse shit. It is hard to think of a landscape less suitable for horse riding than the raging noise, metal and concrete of this junction. But here they must have been, crowd controlling Lewisham’s bottom feeders. Within half a mile I am beginning to think that I might be sick. In fact, for all the full stops in the rest of this post read thus: ‘and I still feel that I am about to puke’. I struggle through the first mile, convinced that the heaviness of my lungs and heart will pass at any moment .(. – and I still feel like I am about to puke).\\nRain.\\nThe weight of whatever it is sticks to me, hangs on me. I fight. I could cut this run to four miles, and sneak in this nine tomorrow, at some point – though I don’t know when. No, you came out for nine, that’s what you’ll do. Bing, mile three. Some boarded up shops and estate agents off Peckham Rye, but I’m not interested. Mile four. I feel like I am carrying a cannonball on my stomach. I am carrying water, which I HATE having to do, but I cannot drink any of it, feeling more stuffed than during post-prandial games on Christmas Day. So I have to carry the full bottle and I can hardly breathe my heart is beating so hard.\\nInto Dulwich and there are no signs of riot damage. I pass a bright blue and old-fashioned drop-crossbar ladies’ pushbike chained to a lamppost. It has had its front wheel stolen – I hubristically wonder if this is as bad as it got, here. But Dulwich has two things to say in return. One, no – and I know this because twenty yards on I can see a big queue outside a shop. The high street is deserted except for this. As I get closer, I see that it is not housewives queueing for rations in the 1940s, they are waiting their turn at the local locksmiths. Two, revenge. Leaving Dulwich and heading south, there is a huge hill. All of the miles so far have been run slower than 10 minutes. I climb this hill so slowly that I might have walked up it, backwards, at a faster pace. How have I got so far and held my breakfast down? The scene is suddenly offset by the sight of Enid Blyton’s house. It all seems so far away from the endless summer of her vision of England. Climb. Climb. Climb. I pass the Horniman Museum, a name that always makes me snigger for puerile reasons. Left, my head tells me this must be north. The sun in the sky is only a dim memory behind this thick concrete of cloud (and still I …). The hill cannot possibly continue further up, any higher and I will be through the cloud cover. Then, ahh, Mrs Jordan’s house. I always knew she was hidden away around here somewhere. Mrs Jordan was an actress in the early nineteenth century, and was the mistress of William IV, one of the two incompetent kings fathered by George III. The thought strikes me, could it be this horni-man that the museum is named for. My spirits obviously easing. The road slants away from me, slowly. It is a blissful sight. I am over an hour into the run, and although the nausea eases, it does not subside entirely. Now it is only helped by the slow and easeful pace aided by the curve down to Forest Hill.\\nThis is the worst run I have done that did not end in, or was cut short by, injury. I made numerous mistakes. I ate too much. I went out too quickly. I ignored the fact that I was struggling. I was putting unnecessary strain on my heart. I could have brought on an asthma attack. Less fuel, more fun. But the most basic rule that I ignored was that the run was supposed to be an LSD. There is nothing about the concept of Long, Slow, Distance that fits with it being done in a hurry, being done in even a slightly curtailed timeframe. Instead, what I had done was fusion running. I had taken a Michelin starred dish of delightful LSD and remixed it as fast food. Of course the result was utterly nauseous.\\nHow not to do LSD', 'Schneiderman op-ed: Legislature can still pass ethics reform this session\\nUpdated 6:00 pm, Tuesday, May 26, 2015\\nCorruption in New York State government is hardly new. The infamous William M. \"Boss\" Tweed was a state senator during the worst of his crimes. More recently, at least 30 statewide elected officials and legislators have left office because of criminal or ethical problems since 2000.\\nBut the charges against the leaders of both houses of the Legislature in a single session have made this year truly stand out — even in New York\\'s long and inglorious history of public corruption.\\nRemarkably, after the governor and the new leaders of the Legislature met May 13, it became clear that ethics and campaign finance reform are not even on the agenda as the legislative session draws to a close. This glaring omission — if not corrected — would do a disservice to the lion\\'s share of elected officials who are honorable public servants, tainted by the misconduct of the few.\\nThe people of New York — 92 percent of whom now say corruption is a serious problem — expect and demand government and elected officials to put the public interest ahead of all else. Now is the time for real reform.\\nMore Information\\nEric T. Schneiderman is the 65th attorney general of New York state.\\nThere are only two paths to meaningful change: fundamental reform of the system, or more investigations, arrests and prosecutions that further erode public confidence.\\nIn the last four years, Comptroller Thomas DiNapoli and I have partnered to prosecute more than 60 officials and their cronies all across the state, at every level of government, who have abused the public trust. But the parade of arrests will not stop until our leaders take bold steps toward comprehensive reforms.\\nFortunately, there is still time before the end of this year\\'s legislative session to get the job done. That is why I intend to send a program bill to the Senate and the Assembly that includes a comprehensive package of changes that reformers, good government groups and the people of New York are demanding.\\nThe reform blueprint I am proposing — proposals attack a system that cries out for change every time the public interest is ignored in Albany. For every voter who is angry about loopholes and exemptions that make New York tax code look like Swiss cheese; or the inability to pass legislation to prevent irretrievable damage to our environment; or the countless New Yorkers who are working full-time jobs but still living in poverty — the time has come to channel that anger into bold reform.\\nNo one can claim the ideas in this bill are radical or partisan, or that they require exploration and inquiry that exceeds the time remaining before legislators leave Albany for the year.\\nWe know what needs to change. There are three weeks left in this session. There are no more legitimate excuses not to act.']\n"
     ]
    }
   ],
   "source": [
    "print(rag_data['contexts'][:10])  # 상위 10개의 문맥 리스트 출력"
   ]
  },
  {
   "cell_type": "code",
   "execution_count": 16,
   "metadata": {},
   "outputs": [],
   "source": [
    "from ragas.llms import LangchainLLMWrapper  # Langchain LLM을 감싸는 래퍼 클래스 import\n",
    "from langchain_openai import ChatOpenAI  # OpenAI와의 연동을 위한 Langchain 기반 클래스 import\n",
    "evaluator_llm = LangchainLLMWrapper(ChatOpenAI(model=\"gpt-4o\"))  # GPT-4o 모델을 사용한 평가 LLM 인스턴스 생성"
   ]
  },
  {
   "cell_type": "code",
   "execution_count": 19,
   "metadata": {},
   "outputs": [
    {
     "data": {
      "application/vnd.jupyter.widget-view+json": {
       "model_id": "9ee8fda42e2e47a08067cee9c55324f9",
       "version_major": 2,
       "version_minor": 0
      },
      "text/plain": [
       "Evaluating:   0%|          | 0/10 [00:00<?, ?it/s]"
      ]
     },
     "metadata": {},
     "output_type": "display_data"
    },
    {
     "data": {
      "text/plain": [
       "{'context_recall': 0.0000}"
      ]
     },
     "execution_count": 19,
     "metadata": {},
     "output_type": "execute_result"
    }
   ],
   "source": [
    "from ragas.metrics import LLMContextRecall  # LLMContextRecall 메트릭 import\n",
    "from ragas import evaluate  # 평가 함수 import\n",
    "from ragas.dataset_schema import SingleTurnSample, EvaluationDataset  # 평가 데이터셋 스키마와 단일 회차 샘플 import\n",
    "\n",
    "metrics = [\n",
    "    LLMContextRecall(llm=evaluator_llm),  # 평가를 위한 LLMContextRecall 메트릭 리스트로 추가\n",
    "]\n",
    "\n",
    "samples = []  # 평가 샘플 리스트 초기화\n",
    "for question, context, answer in zip(rag_data['questions'][:num_questions], contexts_predictions, rag_data['answers'][:num_questions]):  # 질문, 예측 문맥, 정답을 묶어서 반복\n",
    "    sample = SingleTurnSample(\n",
    "        user_input=question,  # 사용자 입력 설정\n",
    "        reference=answer,  # 참조 정답 설정\n",
    "        retrieved_contexts=context  # 예측된 문맥 설정\n",
    "    )\n",
    "    samples.append(sample)  # 샘플 리스트에 추가\n",
    "dataset = EvaluationDataset(samples)  # 평가 데이터셋 생성\n",
    "\n",
    "score = evaluate(dataset, metrics=metrics)  # 데이터셋과 메트릭을 사용해 평가 실행\n",
    "score  # 평가 점수 출력"
   ]
  },
  {
   "cell_type": "code",
   "execution_count": null,
   "metadata": {},
   "outputs": [],
   "source": []
  }
 ],
 "metadata": {
  "kernelspec": {
   "display_name": "tf210",
   "language": "python",
   "name": "tf210"
  },
  "language_info": {
   "codemirror_mode": {
    "name": "ipython",
    "version": 3
   },
   "file_extension": ".py",
   "mimetype": "text/x-python",
   "name": "python",
   "nbconvert_exporter": "python",
   "pygments_lexer": "ipython3",
   "version": "3.10.14"
  }
 },
 "nbformat": 4,
 "nbformat_minor": 2
}
