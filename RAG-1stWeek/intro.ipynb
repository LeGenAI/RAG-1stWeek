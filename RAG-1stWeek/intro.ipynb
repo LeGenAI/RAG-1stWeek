{
 "cells": [
  {
   "cell_type": "code",
   "execution_count": 1,
   "metadata": {},
   "outputs": [],
   "source": [
    "from dotenv import load_dotenv  # .env 파일에 저장된 환경 변수를 불러오는 라이브러리 import\n",
    "import os  # 운영 체제와 상호작용하는 모듈\n",
    "\n",
    "load_dotenv()  # .env 파일에 저장된 환경 변수들을 현재 환경에 로드\n",
    "\n",
    "OPENAI_API_KEY = os.getenv(\"OPENAI_API_KEY\")  # 환경 변수에서 'OPENAI_API_KEY'를 가져와 변수에 저장\n"
   ]
  },
  {
   "cell_type": "code",
   "execution_count": 2,
   "metadata": {},
   "outputs": [
    {
     "name": "stdout",
     "output_type": "stream",
     "text": [
      "내일 서울의 날씨는 대체로 맑겠으며 최고 기온은 26도, 최저 기온은 15도로 예상됩니다. 오전과 오후의 기온 차이가 있으니, 따뜻한 옷차림으로 준비하시면 좋을 것 같아요.\n"
     ]
    }
   ],
   "source": [
    "from openai import OpenAI  # OpenAI API를 사용하기 위한 라이브러리 import\n",
    "\n",
    "client = OpenAI(api_key=OPENAI_API_KEY)  # API 키를 사용해 OpenAI 클라이언트 인스턴스 생성\n",
    "\n",
    "prompt = \"내일 서울 날씨는 어때?\"  # OpenAI API에 전송할 사용자 메시지 정의\n",
    "\n",
    "completion = client.chat.completions.create(  # GPT 모델에 사용자 메시지를 보내고 응답 생성\n",
    "  model=\"gpt-3.5-turbo-0125\",  # 사용할 모델 이름 지정\n",
    "  messages=[  # 대화의 내용을 리스트 형식으로 전달\n",
    "    {\"role\": \"user\", \"content\": prompt},  # 사용자의 메시지를 입력\n",
    "  ]\n",
    ")\n",
    "\n",
    "print(completion.choices[0].message.content)  # 응답 메시지의 내용을 출력"
   ]
  },
  {
   "cell_type": "code",
   "execution_count": 3,
   "metadata": {},
   "outputs": [
    {
     "name": "stdout",
     "output_type": "stream",
     "text": [
      "저는 인공지능 챗봇으로 기상 정보를 제공하기 위해 프로그래밍되었습니다. 실시간으로 기상 정보를 업데이트하고 사용자의 질문에 대답하기 위해 미리 프로그래밍된 데이터베이스를 참조합니다. 그래서 사용자가 날씨에 관한 질문을 하면 제가 프로그래밍된 정보를 바탕으로 대답을 제공할 수 있습니다. 따라서 실시간 정보 업데이트가 되지 않는다고 걱정하지 않아도 됩니다.\n"
     ]
    }
   ],
   "source": [
    "curious_prompt = \"어떻게 네가 내일 날씨를 이야기해줄 수 있니? 너는 실시간 정보 업데이트가 안 되지 않니? 기상청 정보는 어떻게 알고 있는 거니?\"  # 추가적인 질문 정의\n",
    "\n",
    "completion = client.chat.completions.create(  # 추가적인 질문에 대해 모델에 요청\n",
    "  model=\"gpt-3.5-turbo-0125\",  # 동일한 모델 사용\n",
    "  messages=[  # 대화의 내용을 리스트 형식으로 전달\n",
    "    {\"role\": \"user\", \"content\": curious_prompt},  # 사용자의 메시지를 입력\n",
    "  ]\n",
    ")\n",
    "print(completion.choices[0].message.content)  # 응답 메시지의 내용을 출력"
   ]
  },
  {
   "cell_type": "code",
   "execution_count": 4,
   "metadata": {},
   "outputs": [
    {
     "name": "stdout",
     "output_type": "stream",
     "text": [
      "내일은 전남해안과 제주도 중심으로 가끔 비가 오는 것으로 예상되며, 풍랑과 너울에 유의해야 합니다. 전국적으로는 대체로 흐린 날씨가 예상되니 우산을 챙기시고 외출하시는 것이 좋겠습니다.\n"
     ]
    }
   ],
   "source": [
    "# 기상청 단기예보\n",
    "weather_info = \"\"\"□ (종합) 오늘 강원동해안.산지와 경상권 중심, 내일 전남해안과 제주도 중심 가끔 비 곳, 풍랑과 너울 유의\n",
    "○ (오늘) 전국 대체로 흐림,\n",
    "강원동해안.산지와 충북남부, 경상권 비 곳, 밤(18~24시)에 대부분 그침, 밤(18~24시)에 전남해안 비 조금 곳,\n",
    "밤(18~24시)까지 충남권남부와 전북, 밤(18~24시)에 전남권내륙 0.1mm 미만 빗방울 곳\n",
    "○ (내일) 전국 대체로 흐림,\n",
    "새벽(00~06시)부터 오후(12~18시) 사이 제주도, 새벽(00~06시)까지 강원산지, 아침(06~09시)까지 전남해안 가끔 비 곳,\n",
    "아침(06~09시)까지 전남권내륙, 전북서해안 0.1mm 미만 빗방울 곳\n",
    "○ (모레) 전국 대체로 맑음\n",
    "○ (글피) 전국 대체로 맑겠으나, 경상권과 제주도 가끔 구름많음\n",
    "* 예상 강수량(28~29일)\n",
    "- (수도권) 서해5도: 5mm 내외\n",
    "- (강원도) 강원산지, (28일) 강원동해안: 5~10mm\n",
    "- (충청권, 28일) 충북남부: 1mm 내외\n",
    "- (전라권) 전남해안: 5mm 미만\n",
    "- (경상권, 28일) 경북동해안: 5~10mm/ 대구.경북내륙, 부산.울산.경남: 5mm 미만\n",
    "- (제주도, 29일) 제주도: 5~40mm\"\"\"  # 기상청의 날씨 정보 텍스트 데이터\n",
    "\n",
    "prompt = \"내일 날씨는 어때?\" + \"\\n\\n\" + weather_info  # 사용자 메시지와 날씨 정보를 결합하여 생성\n",
    "\n",
    "completion = client.chat.completions.create(  # 모델에 새로운 요청 전송\n",
    "  model=\"gpt-3.5-turbo-0125\",  # 동일한 모델 사용\n",
    "  messages=[  # 대화의 내용을 리스트 형식으로 전달\n",
    "    {\"role\": \"user\", \"content\": prompt},  # 사용자 메시지를 입력\n",
    "  ], \n",
    "  temperature=0.0  # 응답의 무작위성을 제거하여 더욱 결정적인 답변 생성\n",
    ")\n",
    "\n",
    "print(completion.choices[0].message.content)  # 응답 메시지의 내용을 출력"
   ]
  },
  {
   "cell_type": "code",
   "execution_count": 5,
   "metadata": {},
   "outputs": [
    {
     "name": "stdout",
     "output_type": "stream",
     "text": [
      "가장 유사한 텍스트 번호: 1\n",
      "겹치는 단어 수 : 2\n"
     ]
    }
   ],
   "source": [
    "def count_common_words(text1, text2):  # 두 텍스트 간 공통 단어 수를 계산하는 함수 정의\n",
    "  words1 = text1.split()  # 첫 번째 텍스트를 단어 단위로 나눔\n",
    "  words2 = text2.split()  # 두 번째 텍스트를 단어 단위로 나눔\n",
    "  common_words = set(words1) & set(words2)  # 두 텍스트 간 공통 단어를 집합 교집합으로 찾음\n",
    "  return len(common_words)  # 공통 단어 수 반환\n",
    "\n",
    "question = '한국의 전통 음식에 대해 무엇을 알고 계신가요?'  # 사용자 질문 텍스트\n",
    "\n",
    "ref_texts = [  # 비교할 참조 텍스트 리스트\n",
    "    '한국의 전통 음식은 다양한 재료와 조리법으로 유명합니다. 김치, 불고기, 비빔밥 등이 대표적인 예시입니다.',\n",
    "    '한국의 음식 문화는 건강에 좋은 재료를 사용하는 것으로 알려져 있습니다. 발효 식품인 김치가 대표적입니다.',\n",
    "    '한국의 역사와 문화는 매우 흥미롭습니다. 고궁과 한복, 그리고 태권도 등이 유명한 문화 요소입니다.'\n",
    "]\n",
    "\n",
    "common_word_counts = [count_common_words(question, ref_text) for ref_text in ref_texts]  # 각 참조 텍스트와 사용자 질문 간 공통 단어 수 계산\n",
    "\n",
    "most_similar_index = common_word_counts.index(max(common_word_counts))  # 가장 많은 공통 단어 수를 가지는 텍스트의 인덱스 찾기\n",
    "print(f\"가장 유사한 텍스트 번호: {most_similar_index+1}\")  # 가장 유사한 텍스트의 번호 출력 (1부터 시작)\n",
    "print(f\"겹치는 단어 수 : {common_word_counts[most_similar_index]}\")  # 가장 많이 겹치는 단어 수 출력"
   ]
  },
  {
   "cell_type": "code",
   "execution_count": null,
   "metadata": {},
   "outputs": [],
   "source": []
  }
 ],
 "metadata": {
  "kernelspec": {
   "display_name": "tf210",
   "language": "python",
   "name": "tf210"
  },
  "language_info": {
   "codemirror_mode": {
    "name": "ipython",
    "version": 3
   },
   "file_extension": ".py",
   "mimetype": "text/x-python",
   "name": "python",
   "nbconvert_exporter": "python",
   "pygments_lexer": "ipython3",
   "version": "3.10.14"
  }
 },
 "nbformat": 4,
 "nbformat_minor": 2
}
